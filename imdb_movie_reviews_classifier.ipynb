{
  "cells": [
    {
      "cell_type": "code",
      "source": [
        "import nltk\r\n",
        "nltk.download('omw-1.4')\r\n",
        "nltk.download('stopwords')\r\n",
        "nltk.download('wordnet')\r\n",
        "nltk.download('averaged_perceptron_tagger')\r\n",
        "import pandas as pd\r\n",
        "import torch\r\n",
        "import nltk\r\n",
        "from sklearn import model_selection\r\n",
        "from nltk.corpus import stopwords\r\n",
        "stop = stopwords.words('english')\r\n",
        "from nltk.stem import WordNetLemmatizer\r\n",
        "from nltk.corpus import wordnet\r\n",
        "from bs4 import BeautifulSoup\r\n",
        "from transformers import BertTokenizer, BertModel\r\n",
        "from torch import nn\r\n",
        "from torch.optim import Adam\r\n",
        "from tqdm import tqdm\r\n",
        "import numpy as np\r\n",
        "from sklearn.model_selection import train_test_split\r\n",
        "import re\r\n",
        "import string\r\n",
        "from typing_extensions import final\r\n",
        "from sklearn.metrics import confusion_matrix, accuracy_score, classification_report"
      ],
      "outputs": [
        {
          "output_type": "stream",
          "name": "stderr",
          "text": "[nltk_data] Downloading package omw-1.4 to\n[nltk_data]     /home/azureuser/nltk_data...\n[nltk_data]   Package omw-1.4 is already up-to-date!\n[nltk_data] Downloading package stopwords to\n[nltk_data]     /home/azureuser/nltk_data...\n[nltk_data]   Package stopwords is already up-to-date!\n[nltk_data] Downloading package wordnet to\n[nltk_data]     /home/azureuser/nltk_data...\n[nltk_data]   Package wordnet is already up-to-date!\n[nltk_data] Downloading package averaged_perceptron_tagger to\n[nltk_data]     /home/azureuser/nltk_data...\n[nltk_data]   Package averaged_perceptron_tagger is already up-to-\n[nltk_data]       date!\n"
        }
      ],
      "execution_count": 2,
      "metadata": {
        "jupyter": {
          "source_hidden": false,
          "outputs_hidden": false
        },
        "nteract": {
          "transient": {
            "deleting": false
          }
        },
        "gather": {
          "logged": 1644164154698
        }
      }
    },
    {
      "cell_type": "code",
      "source": [
        "htmlRGX = re.compile('<.*?>') \r\n",
        "\r\n",
        "lemmatizer = WordNetLemmatizer()\r\n",
        "stop_words = stopwords.words('english')\r\n",
        "\r\n",
        "def data_preprocessing(text):\r\n",
        "  sentence = re.sub(htmlRGX, ' ', text)\r\n",
        "  sentence = \"\".join([char for char in sentence if char not in string.punctuation])\r\n",
        "  sentence = sentence.lower()\r\n",
        "  sentence = sentence.split(' ')\r\n",
        "  sentence = [word for word in sentence if word not in stop_words]\r\n",
        "  sentence = [lemmatizer.lemmatize(word=word,pos='v') for word in sentence]\r\n",
        "  sentence = ' '.join(sentence)\r\n",
        "  return sentence\r\n",
        "\r\n",
        "def split(dataFrame):\r\n",
        "    x, y = dataFrame.iloc[:, :-1], dataFrame.iloc[:, [-1]]  # split feature and label\r\n",
        "    X_train, X_rem, y_train, y_rem = train_test_split(x, y, train_size=0.7, test_size=0.3, stratify=y)\r\n",
        "    X_validate, X_test, y_validate, y_test = train_test_split(X_rem, y_rem, train_size=1/3, test_size=2/3,stratify=y_rem)\r\n",
        "    return X_train, X_validate, X_test, y_train, y_validate, y_test"
      ],
      "outputs": [],
      "execution_count": 3,
      "metadata": {
        "jupyter": {
          "source_hidden": false,
          "outputs_hidden": false
        },
        "nteract": {
          "transient": {
            "deleting": false
          }
        },
        "gather": {
          "logged": 1644164154813
        }
      }
    },
    {
      "cell_type": "code",
      "source": [
        "class Dataset(torch.utils.data.Dataset):\r\n",
        "    def __init__(self, x,y):\r\n",
        "\r\n",
        "        self.labels =  torch.FloatTensor(y['sentiment'].values)\r\n",
        "        self.texts  = [tokenizer(review, \r\n",
        "                               padding='max_length', max_length = 512, truncation=True,\r\n",
        "                                return_tensors=\"pt\") for review in x['review']]\r\n",
        "    def classes(self):\r\n",
        "        return self.labels\r\n",
        "\r\n",
        "    def __len__(self):\r\n",
        "        return len(self.labels)\r\n",
        "\r\n",
        "    def get_batch_labels(self, idx):\r\n",
        "        # Fetch a batch of labels\r\n",
        "        return self.labels[idx]\r\n",
        "\r\n",
        "    def get_batch_texts(self, idx):\r\n",
        "        # Fetch a batch of inputs\r\n",
        "        return self.texts[idx]\r\n",
        "\r\n",
        "    def __getitem__(self, idx):\r\n",
        "        batch_texts = self.get_batch_texts(idx)\r\n",
        "        batch_y = self.get_batch_labels(idx)\r\n",
        "        return batch_texts, batch_y"
      ],
      "outputs": [],
      "execution_count": 4,
      "metadata": {
        "jupyter": {
          "source_hidden": false,
          "outputs_hidden": false
        },
        "nteract": {
          "transient": {
            "deleting": false
          }
        },
        "gather": {
          "logged": 1644164155004
        }
      }
    },
    {
      "cell_type": "code",
      "source": [
        "\n",
        "# def data_preprocessing(data):\n",
        "#     data[\"review\"] = data[\"review\"].str.lower()\n",
        "#     data[\"review\"] = data['review'].apply(lambda text: BeautifulSoup(text, 'html.parser').get_text())\n",
        "#     data[\"review\"] = data['review'].str.replace('[^\\w\\s]','')\n",
        "#     data[\"review\"] = data['review'].apply(lambda x: ' '.join([word for word in x.split() if word not in (stop)]))\n",
        "#     data[\"review\"] = data['review'].apply(lambda x: ' '.join(lemmatizer.lemmatize(word, pos=\"v\") for word in x.split()))\n",
        "#     data[\"review\"] = data['review'].apply(lambda x: ' '.join(lemmatizer.lemmatize(word, pos=\"a\") for word in x.split()))\n",
        "#     data[\"review\"] = data['review'].apply(lambda x: ' '.join(lemmatizer.lemmatize(word, pos=\"n\") for word in x.split()))\n",
        "#     data[\"review\"] = data['review'].apply(lambda x: ' '.join(lemmatizer.lemmatize(word, pos=\"r\") for word in x.split()))\n",
        "#     data[\"review\"] = data['review'].apply(lambda x: ' '.join(lemmatizer.lemmatize(word, pos=\"s\") for word in x.split()))\n",
        "#     return data\n",
        "\n",
        "\n",
        "\n",
        "\n",
        "\n",
        "\n",
        "\n",
        "tokenizer = BertTokenizer.from_pretrained('bert-base-cased')\n",
        "labels = {'negative':0,\n",
        "          'positive':1\n",
        "          }\n",
        "\n",
        "class BertClassifier(nn.Module):\n",
        "    def __init__(self, dropout=0.1):\n",
        "\n",
        "        super(BertClassifier, self).__init__()\n",
        "        self.bert = BertModel.from_pretrained('bert-base-cased')\n",
        "        # dropout layer\n",
        "        self.dropout = nn.Dropout(dropout)\n",
        "        # relu activation function\n",
        "        self.relu =  nn.ReLU()\n",
        "\n",
        "        # dense layer 1\n",
        "        self.fc1 = nn.Linear(768,512)\n",
        "        self.fc2 = nn.Linear(512,256)\n",
        "        self.fc3 = nn.Linear(256,128)\n",
        "        self.fc4 = nn.Linear(128,64)\n",
        "        self.fc = nn.Linear(64,1)\n",
        "\n",
        "         # dense layer 5 (Output layer)\n",
        "\n",
        "        #sigmoid activation function\n",
        "        self.sigmoid = nn.Sigmoid()\n",
        "\n",
        "\n",
        "    def forward(self, input_id, mask):\n",
        "          #pass the inputs to the model  \n",
        "        _, cls_hs = self.bert(input_ids=input_id, attention_mask=mask, return_dict=False)\n",
        "        x = self.dropout(cls_hs)\n",
        "        x = self.fc1(x)\n",
        "        x = self.relu(x)\n",
        "        x = self.dropout(x)\n",
        "  #####\n",
        "        x1 = self.fc2(x)\n",
        "        x1 = self.relu(x1)\n",
        "\n",
        "        x1 = self.dropout(x1)\n",
        "  ######\n",
        "        x2 = self.fc3(x1)\n",
        "        x2 = self.relu(x2)\n",
        "\n",
        "        x2 = self.dropout(x2)\n",
        "  ######\n",
        "        x3 = self.fc4(x2)\n",
        "        x3 = self.relu(x3)\n",
        "\n",
        "        x3 = self.dropout(x3)\n",
        "\n",
        "        # output layer\n",
        "        x = self.fc(x3)\n",
        "        \n",
        "        # apply softmax activation\n",
        "        x = self.sigmoid(x)\n",
        "\n",
        "        return x\n"
      ],
      "outputs": [],
      "execution_count": 5,
      "metadata": {
        "id": "39u-7k262-fv",
        "colab": {
          "base_uri": "https://localhost:8080/"
        },
        "outputId": "fb321fd7-0c6b-4b13-82f2-0df95e3c5f5d",
        "gather": {
          "logged": 1644164155476
        }
      }
    },
    {
      "cell_type": "code",
      "source": [
        "def report(y_test, y_pred):\r\n",
        "    TP, FP = confusion_matrix(y_test, y_pred)[0]\r\n",
        "    FN, TN = confusion_matrix(y_test, y_pred)[1]\r\n",
        "    print(\"Confusion Matrix:\\n\")\r\n",
        "    print(f'TP:{TP}\\tFP:{FP}\\nFN:{FN}\\tTN:{TN}\\n')\r\n",
        "    print(f\"Accuracy: {accuracy_score(y_test, y_pred) * 100}\\n\")\r\n",
        "    print('Report:')\r\n",
        "    print(f\"{classification_report(y_test, y_pred)}\\n\", )\r\n",
        "\r\n",
        "def evaluate(model, test_data):\r\n",
        "    test = Dataset(test_data)\r\n",
        "    test_dataloader = torch.utils.data.DataLoader(test, batch_size=128)\r\n",
        "    use_cuda = torch.cuda.is_available()\r\n",
        "    device = torch.device(\"cuda\" if use_cuda else \"cpu\")\r\n",
        "\r\n",
        "    if use_cuda:\r\n",
        "        model = model.cuda()\r\n",
        "\r\n",
        "    total_acc_test = 0\r\n",
        "    y_pred=[]\r\n",
        "    with torch.no_grad():\r\n",
        "        for test_input, test_label in test_dataloader:\r\n",
        "            test_label = test_label.to(device)\r\n",
        "            mask        = test_input['attention_mask'].to(device)\r\n",
        "            input_id    = test_input['input_ids'].squeeze(1).to(device)\r\n",
        "            output      = model(input_id, mask)\r\n",
        "            output      = (output >0.5).float()\r\n",
        "            y_pred.append(output)\r\n",
        "            test_label  = test_label.unsqueeze(1)\r\n",
        "            acc         = (output == test_label).sum().item()\r\n",
        "            total_acc_test += acc\r\n",
        "    report(test_dataloader[1],y_pred)\r\n",
        "    print(f'Test Accuracy: {total_acc_test / len(test_data): .4f}')"
      ],
      "outputs": [],
      "execution_count": 6,
      "metadata": {
        "jupyter": {
          "source_hidden": false,
          "outputs_hidden": false
        },
        "nteract": {
          "transient": {
            "deleting": false
          }
        },
        "gather": {
          "logged": 1644164155588
        }
      }
    },
    {
      "cell_type": "code",
      "source": [
        "train_accuracy = []\r\n",
        "val_accuarcy = []\r\n",
        "\r\n",
        "train_loss = []\r\n",
        "val_loss = []"
      ],
      "outputs": [],
      "execution_count": 7,
      "metadata": {
        "jupyter": {
          "source_hidden": false,
          "outputs_hidden": false
        },
        "nteract": {
          "transient": {
            "deleting": false
          }
        },
        "gather": {
          "logged": 1644164155690
        }
      }
    },
    {
      "cell_type": "code",
      "source": [
        "def train(model,path, train_dataloader, val_dataloader, learning_rate, epochs):\r\n",
        "    global train_accuracy,val_accuarcy,train_loss,val_loss\r\n",
        "\r\n",
        "    use_cuda = torch.cuda.is_available()\r\n",
        "    device = torch.device(\"cuda\" if use_cuda else \"cpu\")\r\n",
        "\r\n",
        "    criterion = nn.BCELoss()\r\n",
        "    optimizer = Adam(model.parameters(), lr= learning_rate)\r\n",
        "\r\n",
        "    if use_cuda:\r\n",
        "            model = model.cuda()\r\n",
        "            criterion = criterion.cuda()\r\n",
        "\r\n",
        "    for epoch_num in range(epochs):\r\n",
        "            total_acc_train  = 0\r\n",
        "            total_loss_train = 0\r\n",
        "            for train_input, train_label in tqdm(train_dataloader):\r\n",
        "                train_label = train_label.to(device)\r\n",
        "                mask = train_input['attention_mask'].to(device)\r\n",
        "                input_id = train_input['input_ids'].squeeze(1).to(device)\r\n",
        "                output     = model(input_id, mask)\r\n",
        "                batch_loss = criterion(output, train_label.unsqueeze(1))\r\n",
        "                total_loss_train += batch_loss.item()\r\n",
        "                output      = (output >0.5).float()\r\n",
        "                train_label = train_label.unsqueeze(1)\r\n",
        "                acc         = (output == train_label).sum().item()\r\n",
        "                total_acc_train += acc\r\n",
        "                model.zero_grad()\r\n",
        "                batch_loss.backward()\r\n",
        "                optimizer.step()\r\n",
        "            \r\n",
        "            total_acc_val = 0\r\n",
        "            total_loss_val = 0\r\n",
        "\r\n",
        "            with torch.no_grad():\r\n",
        "                for val_input, val_label in val_dataloader:\r\n",
        "                    val_label = val_label.to(device)\r\n",
        "                    mask = val_input['attention_mask'].to(device)\r\n",
        "                    input_id = val_input['input_ids'].squeeze(1).to(device)\r\n",
        "\r\n",
        "                    output     = model(input_id, mask)\r\n",
        "                    batch_loss = criterion(output, val_label.unsqueeze(1))\r\n",
        "                    total_loss_val += batch_loss.item()\r\n",
        "                    output      = (output >0.5).float()\r\n",
        "                    val_label = val_label.unsqueeze(1)\r\n",
        "                    acc         = (output == val_label).sum().item()\r\n",
        "                    total_acc_val += acc\r\n",
        "            \r\n",
        "            print(f'Epochs: {epoch_num + 1} | Train Loss: {total_loss_train / len(train_dataloader.dataset): .4f} \\\r\n",
        "            | Train Accuracy: {total_acc_train / len(train_dataloader.dataset): .4f} | \\\r\n",
        "            Val Loss: {total_loss_val / len(val_dataloader.dataset): .4f} | \\\r\n",
        "            Val Accuracy: {total_acc_val / len(val_dataloader.dataset): .4f}')\r\n",
        "\r\n",
        "            train_accuracy.append( total_acc_train/len(train_dataloader.dataset))\r\n",
        "            val_accuarcy.append( total_acc_val/len(val_dataloader.dataset) )\r\n",
        "            train_loss.append( total_loss_train/len(train_dataloader.dataset))\r\n",
        "            val_loss.append( total_loss_val/len(val_dataloader.dataset))\r\n",
        "                "
      ],
      "outputs": [],
      "execution_count": 8,
      "metadata": {
        "jupyter": {
          "source_hidden": false,
          "outputs_hidden": false
        },
        "nteract": {
          "transient": {
            "deleting": false
          }
        },
        "gather": {
          "logged": 1644164155783
        }
      }
    },
    {
      "cell_type": "code",
      "source": [
        "lemmatizer = WordNetLemmatizer()\r\n",
        "tokenizer = BertTokenizer.from_pretrained('bert-base-cased')\r\n",
        "df = pd.read_csv('IMDB Dataset.csv')\r\n",
        "df = df.replace({'positive':1,'negative':0})\r\n",
        "\r\n",
        "preprocess= df.copy()\r\n",
        "preprocess['review'] = preprocess['review'].apply(data_preprocessing)"
      ],
      "outputs": [],
      "execution_count": 9,
      "metadata": {
        "jupyter": {
          "source_hidden": false,
          "outputs_hidden": false
        },
        "nteract": {
          "transient": {
            "deleting": false
          }
        },
        "gather": {
          "logged": 1644164210976
        }
      }
    },
    {
      "cell_type": "code",
      "source": [
        "EPOCHS = 5"
      ],
      "outputs": [],
      "execution_count": 10,
      "metadata": {
        "jupyter": {
          "source_hidden": false,
          "outputs_hidden": false
        },
        "nteract": {
          "transient": {
            "deleting": false
          }
        },
        "gather": {
          "logged": 1644164211098
        }
      }
    },
    {
      "cell_type": "code",
      "source": [
        "X_train, X_validate, X_test, y_train, y_validate, y_test = split(preprocess)\r\n",
        "\r\n",
        "train_df, val_df = Dataset(X_train,y_train), Dataset(X_validate,y_validate)\r\n",
        "\r\n",
        "train_dataloader = torch.utils.data.DataLoader(train_df, batch_size=16, shuffle=True)\r\n",
        "val_dataloader = torch.utils.data.DataLoader(val_df, batch_size=16)"
      ],
      "outputs": [],
      "execution_count": 11,
      "metadata": {
        "jupyter": {
          "source_hidden": false,
          "outputs_hidden": false
        },
        "nteract": {
          "transient": {
            "deleting": false
          }
        },
        "gather": {
          "logged": 1644164320917
        }
      }
    },
    {
      "cell_type": "code",
      "source": [
        "import pickle \r\n",
        "import gc\r\n",
        "import matplotlib.pyplot as plt\r\n",
        "\r\n",
        "LR = [0.005,0.001,0.0005]\r\n",
        "LR = [0.001]\r\n",
        "\r\n",
        "\r\n",
        "model = None\r\n",
        "for lr in LR:\r\n",
        "    for _ in range(0,100):\r\n",
        "        gc.collect()\r\n",
        "        torch.cuda.empty_cache()\r\n",
        "\r\n",
        "    train_accuracy = []\r\n",
        "    val_accuarcy = []\r\n",
        "    train_loss = []\r\n",
        "    val_loss = []\r\n",
        "\r\n",
        "    model = BertClassifier()\r\n",
        "    PATH = './models/model'+str(lr)\r\n",
        "    train(model, PATH,train_dataloader, val_dataloader, lr, EPOCHS)\r\n",
        "\r\n",
        "    with open(f'./models/train_accuracy_{lr}','wb') as f: \r\n",
        "        pickle.dump( np.array(train_accuracy), f)\r\n",
        "\r\n",
        "    with open(f'./models/val_accuarcy_{lr}','wb') as f: \r\n",
        "        pickle.dump( np.array(val_accuarcy), f)\r\n",
        "\r\n",
        "    with open(f'./models/train_loss_{lr}','wb') as f: \r\n",
        "        pickle.dump( np.array(train_loss), f)\r\n",
        "\r\n",
        "    with open(f'./models/val_loss_{lr}','wb') as f: \r\n",
        "        pickle.dump( np.array(val_loss), f)\r\n",
        "    \r\n",
        "    epochs  =  [i for i in range(0,EPOCHS)]\r\n",
        "    fig, (ax1, ax2) = plt.subplots(1, 2)\r\n",
        "    fig.suptitle(f'Model {lr} plot')\r\n",
        "    ax1.plot(epochs, val_loss,'g',epochs,train_loss,'b')\r\n",
        "    ax2.plot(epochs,val_accuarcy,'g',epochs,train_accuracy,'b')\r\n",
        "    plt.savefig('./models/model'+str(lr)+\"graph_.png\")"
      ],
      "outputs": [],
      "execution_count": 13,
      "metadata": {
        "jupyter": {
          "source_hidden": false,
          "outputs_hidden": false
        },
        "nteract": {
          "transient": {
            "deleting": false
          }
        }
      }
    },
    {
      "cell_type": "code",
      "source": [
        "\r\n",
        "#index = [i for i in range (1,len(LR)+1)]\r\n",
        "# for i in range(0, len(index)):\r\n",
        "    # train_accuracy = pickle.load(open(f'train_accuracy_{i}',\"rb\"))\r\n",
        "    # val_accuarcy   = pickle.load(open(f'val_accuarcy_{i}',\"rb\"))\r\n",
        "    # train_loss     = pickle.load(open(f'train_loss_{i}',\"rb\"))\r\n",
        "    # val_loss       = pickle.load(open(f'val_loss_{i}',\"rb\"))\r\n",
        "\r\n",
        "#epochs  =  [i for i in range(0,EPOCHS)]\r\n",
        "#fig, (ax1, ax2) = plt.subplots(1, 2)\r\n",
        "#fig.suptitle(f'Model {1} plot')\r\n",
        "#ax1.plot(epochs, val_loss,'g',epochs,train_loss,'b')\r\n",
        "#ax2.plot(epochs,val_accuarcy,'g',epochs,train_accuracy,'b')\r\n",
        "#plt.savefig('model'+str(1)+\"graph_.png\")"
      ],
      "outputs": [],
      "execution_count": null,
      "metadata": {
        "jupyter": {
          "source_hidden": false,
          "outputs_hidden": false
        },
        "nteract": {
          "transient": {
            "deleting": false
          }
        },
        "gather": {
          "logged": 1644147723934
        }
      }
    },
    {
      "cell_type": "code",
      "source": [
        "m1 = BertClassifier()\r\n",
        "m1 = m1.load_state_dict(torch.load(\"./models/model1\"))"
      ],
      "outputs": [],
      "execution_count": null,
      "metadata": {
        "jupyter": {
          "source_hidden": false,
          "outputs_hidden": false
        },
        "nteract": {
          "transient": {
            "deleting": false
          }
        },
        "gather": {
          "logged": 1644149820058
        }
      }
    },
    {
      "cell_type": "code",
      "source": [
        "evaluate(m1, [X_test,y_test])"
      ],
      "outputs": [],
      "execution_count": null,
      "metadata": {
        "jupyter": {
          "source_hidden": false,
          "outputs_hidden": false
        },
        "nteract": {
          "transient": {
            "deleting": false
          }
        }
      }
    }
  ],
  "metadata": {
    "colab": {
      "name": "MovieReviewsIMDB.ipynb",
      "provenance": [],
      "collapsed_sections": []
    },
    "kernelspec": {
      "name": "python3",
      "language": "python",
      "display_name": "Python 3"
    },
    "language_info": {
      "name": "python",
      "version": "3.6.9",
      "mimetype": "text/x-python",
      "codemirror_mode": {
        "name": "ipython",
        "version": 3
      },
      "pygments_lexer": "ipython3",
      "nbconvert_exporter": "python",
      "file_extension": ".py"
    },
    "accelerator": "GPU",
    "kernel_info": {
      "name": "python3"
    },
    "nteract": {
      "version": "nteract-front-end@1.0.0"
    },
    "microsoft": {
      "host": {
        "AzureML": {
          "notebookHasBeenCompleted": true
        }
      }
    }
  },
  "nbformat": 4,
  "nbformat_minor": 0
}